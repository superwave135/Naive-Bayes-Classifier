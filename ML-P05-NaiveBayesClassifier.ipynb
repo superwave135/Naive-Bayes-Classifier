{
 "cells": [
  {
   "cell_type": "raw",
   "metadata": {},
   "source": [
    "Name: Tan Ngiap Chuan Alvin"
   ]
  },
  {
   "cell_type": "markdown",
   "metadata": {},
   "source": [
    "# Introduction to Machine Learning - Practicum 5 - Naive Bayes Classifier\n",
    "\n",
    "**Topics covered**: Label Encoding, Naive Bayes Classifier Algorithm\n",
    "\n",
    "**Deliverables**:\n",
    "- Complete the tasks as detailed in this document.\n",
    "- You are not allowed to use any Machine Learning APIs for this practicum (NumPy and Pandas are allowed).\n",
    "\n",
    "**Objectives**:  \n",
    "Naive Bayes is a very simple classification algorithm that makes some strong assumptions about the independence of each input variable. Nevertheless, it has been shown to be effective in a large number of problem domains. In this chapter you will discover the Naive Bayes algorithm for categorical data. After reading this chapter you will know.\n",
    "- How to work with categorical data for Naive Bayes.\n",
    "- How to prepare the class and conditional probabilities for a Naive Bayes model.\n",
    "- How to use a learned Naive Bayes model to make predictions.\n",
    "\n",
    "---\n",
    "\n",
    "## 1. Dataset\n",
    "Run the following cell to load the dataset and import the relevant libraries."
   ]
  },
  {
   "cell_type": "code",
   "execution_count": 1,
   "metadata": {},
   "outputs": [
    {
     "name": "stdout",
     "output_type": "stream",
     "text": [
      "  Weather      Car   Class\n",
      "0   sunny  working  go-out\n",
      "1   rainy   broken  go-out\n",
      "2   sunny  working  go-out\n",
      "3   sunny  working  go-out\n",
      "4   sunny  working  go-out\n",
      "(10, 3)\n"
     ]
    }
   ],
   "source": [
    "import pandas as pd\n",
    "import numpy as np\n",
    "\n",
    "df = pd.read_csv('data.csv')\n",
    "print(df.head())\n",
    "print(df.shape) # own"
   ]
  },
  {
   "cell_type": "markdown",
   "metadata": {},
   "source": [
    "The dataset describes two categorical input variables and a class variable that has two outputs:\n",
    "\n",
    "| Weather | Car     | Class     |\n",
    "|---------|---------|-----------|\n",
    "| sunny   | working | go-out    |\n",
    "| rainy   | broken  | go-out    |\n",
    "| sunny   | working | go-out    |\n",
    "| sunny   | working | go-out    |\n",
    "| sunny   | working | go-out    |\n",
    "| rainy   | broken  | stay-home |\n",
    "| rainy   | broken  | stay-home |\n",
    "| sunny   | working | stay-home |\n",
    "| sunny   | broken  | stay-home |\n",
    "| rainy   | broken  | stay-home |\n",
    "\n",
    "For the dataset above to be useful, we need to convert the categorical input variables to nominal data.\n",
    "\n",
    "Since each input has only two values and the output class variable has two values, we should convert each variable to binary based on the following representations:\n",
    "- Weather: sunny = 1, rainy = 0\n",
    "- Car: working = 1, broken = 0\n",
    "- Class: go-out = 1, stay-home = 0\n",
    "\n",
    "This is also known as label encoding.\n",
    "\n",
    "Write a function called `label_encoder` that takes in the dataset `df` as input and returns the encoded dataset `edf` as output."
   ]
  },
  {
   "cell_type": "code",
   "execution_count": 2,
   "metadata": {},
   "outputs": [],
   "source": [
    "def label_encoder(df):\n",
    "\n",
    "    # converting to binary data \n",
    "    df_weather = pd.get_dummies(df[\"Weather\"]) \n",
    "    df_weather = df_weather.drop(['rainy'], axis=1)\n",
    "    df_weather = df_weather.rename(columns={\"sunny\": \"Weather\"})\n",
    "#     print(df_weather)\n",
    "    \n",
    "    df_car = pd.get_dummies(df[\"Car\"]) \n",
    "    df_car = df_car.drop(['broken'], axis=1)\n",
    "    df_car = df_car.rename(columns={\"working\": \"Car\"})\n",
    "#     print(df_car)\n",
    "    \n",
    "    df_class = pd.get_dummies(df[\"Class\"]) \n",
    "    df_class = df_class.drop(['stay-home'], axis=1)\n",
    "    df_class = df_class.rename(columns={\"go-out\": \"Class\"})\n",
    "#     print(df_class)\n",
    "    \n",
    "#     # display result \n",
    "    df_encoded = pd.concat((df_weather, df_car, df_class), axis=1) \n",
    "    return df_encoded"
   ]
  },
  {
   "cell_type": "markdown",
   "metadata": {},
   "source": [
    "Run the following cell. Your dataset should be restated as follows:\n",
    "\n",
    "| Weather \t| Car \t| Class |\n",
    "|:---------:|:-----:|:-----:|\n",
    "| 1 \t\t| 1 \t| 1     |\n",
    "| 0 \t\t| 0 \t| 1     |\n",
    "| 1 \t\t| 1 \t| 1     |\n",
    "| 1 \t\t| 1 \t| 1     |\n",
    "| 1 \t\t| 1 \t| 1     |\n",
    "| 0 \t\t| 0 \t| 0     |\n",
    "| 0 \t\t| 0 \t| 0     |\n",
    "| 1 \t\t| 1 \t| 0     |\n",
    "| 1 \t\t| 0 \t| 0     |\n",
    "| 0 \t\t| 0 \t| 0     |"
   ]
  },
  {
   "cell_type": "code",
   "execution_count": 3,
   "metadata": {},
   "outputs": [
    {
     "name": "stdout",
     "output_type": "stream",
     "text": [
      "   Weather  Car  Class\n",
      "0        1    1      1\n",
      "1        0    0      1\n",
      "2        1    1      1\n",
      "3        1    1      1\n",
      "4        1    1      1\n"
     ]
    }
   ],
   "source": [
    "edf = label_encoder(df)\n",
    "print(edf.head())"
   ]
  },
  {
   "cell_type": "markdown",
   "metadata": {},
   "source": [
    "---\n",
    "\n",
    "## 2. Learn a Naive Bayes Model\n",
    "There are two types of quantities that need to be calculated from the dataset for the naive Bayes model:\n",
    "- Class Probabilities.\n",
    "- Conditional Probabilities.\n",
    "Let's start with the class probabilities.\n",
    "\n",
    "### 2.1 Calculate the Class Probabilities\n",
    "The dataset is a two class problem. We can calculate the class probabilities for classes 0 and 1 as follows:\n",
    "\n",
    "$$\n",
    "P(class = 1) = \\frac{count(class = 1)}{count(class = 0) + count(class = 1)} \\\\\n",
    "$$\n",
    "\n",
    "$$\n",
    "P(class = 0) = \\frac{count(class = 0)}{count(class = 0) + count(class = 1)} \\\\\n",
    "$$\n",
    "\n",
    "Write a function `calc_class_prob` that takes in the encoded dataset `edf` as input and returns the probability of each class `class_prob` as a dictionary."
   ]
  },
  {
   "cell_type": "code",
   "execution_count": 4,
   "metadata": {},
   "outputs": [],
   "source": [
    "def calc_class_prob(edf):    \n",
    "    class_1_value_counts = edf['Class'].value_counts()[0]  # total counts of value '1'\n",
    "    class_0_value_counts = edf['Class'].value_counts()[1]  # total counts of value '0'  \n",
    "    total_counts = edf['Class'].count()              # total counts in the column 'Class'\n",
    "    class_1_prob = class_1_value_counts / total_counts      # calc the prob of class_1\n",
    "    class_0_prob = class_0_value_counts / total_counts      # calc the prob of class_0   \n",
    "    class_value = edf['Class'].value_counts().index.tolist()  # extract the values into a list\n",
    "#     print(class_value[0], class_value[1])\n",
    "    class_prob = {class_value[0]:class_1_prob, class_value[1]:class_0_prob}\n",
    "    return class_prob"
   ]
  },
  {
   "cell_type": "markdown",
   "metadata": {},
   "source": [
    "Run the cell below to store the class probabilities in the variable `cls_prob`."
   ]
  },
  {
   "cell_type": "code",
   "execution_count": 5,
   "metadata": {},
   "outputs": [
    {
     "name": "stdout",
     "output_type": "stream",
     "text": [
      "{1: 0.5, 0: 0.5}\n"
     ]
    }
   ],
   "source": [
    "cls_prob = calc_class_prob(edf)\n",
    "print(cls_prob)"
   ]
  },
  {
   "cell_type": "markdown",
   "metadata": {},
   "source": [
    "### 2.2 Calculate the Conditional Probabilities\n",
    "The conditional probabilities are the probability of each input value given each class value. The conditional probabilities for the dataset can be calculated as follows:\n",
    "\n",
    "#### Weather Input Variable\n",
    "\n",
    "$$\n",
    "\\begin{align}\n",
    "&P(weather = sunny|class = \\text{go-out}) = \\frac{count(weather = sunny \\wedge class = \\text{go-out})}{count(class = \\text{go-out})}\\\\\n",
    "&P(weather = rainy|class = \\text{go-out}) = \\frac{count(weather = rainy \\wedge class = \\text{go-out})}{count(class = \\text{go-out})}\\\\\n",
    "&P(weather = sunny|class = \\text{stay-home}) = \\frac{count(weather = sunny \\wedge class = \\text{stay-home})}{count(class = \\text{stay-home})}\\\\\n",
    "&P(weather = rainy|class = \\text{stay-home}) = \\frac{count(weather = rainy \\wedge class = \\text{stay-home})}{count(class = \\text{stay-home})}\\\\\n",
    "\\end{align}\n",
    "$$\n",
    "\n",
    "#### Car Input Variable\n",
    "\n",
    "$$\n",
    "\\begin{align}\n",
    "&P(car = working|class = \\text{go-out}) = \\frac{count(car = working \\wedge class = \\text{go-out})}{count(class = \\text{go-out})}\\\\\n",
    "&P(car = broken|class = \\text{go-out}) = \\frac{count(car = broken \\wedge class = \\text{go-out})}{count(class = \\text{go-out})}\\\\\n",
    "&P(car = working|class = \\text{stay-home}) = \\frac{count(car = working \\wedge class = \\text{stay-home})}{count(class = \\text{stay-home})}\\\\\n",
    "&P(car = broken|class = \\text{stay-home}) = \\frac{count(car = broken \\wedge class = \\text{stay-home})}{count(class = \\text{stay-home})}\n",
    "\\end{align}\n",
    "$$\n",
    "\n",
    "Remember that the $\\wedge$ symbol is just a shorthand for conjunction (AND).\n",
    "\n",
    "Write a conditional probability function `condProb` that takes in the encoded_dataframe `edf`, input variable name as a string `i_name`, an input variable value `i_val`, and a class value `c` as parameters and returns the conditional probability `cond_prob`."
   ]
  },
  {
   "cell_type": "code",
   "execution_count": 6,
   "metadata": {},
   "outputs": [],
   "source": [
    "def calc_cond_prob(edf, i_name, i_val, c):\n",
    "    cls_prob = calc_class_prob(edf) # call the calc_prob func to get the dictionary\n",
    "    class_prob = cls_prob[c]  # get the probability of class given c\n",
    "#     print(f'class_prob: {class_prob}')\n",
    "    \n",
    "    if c == 1:  # class value 1\n",
    "        class_value_counts = edf['Class'].value_counts()[1-c]                    # get the class val counts given c = 1\n",
    "        counts_of_ival = edf[i_name][:class_value_counts].value_counts()[i_val]  # get the ival counts from upper half given c = 1\n",
    "    \n",
    "    elif c == 0: # class value 0\n",
    "        class_value_counts = edf['Class'].value_counts()[1-c]                    # get the class val counts given c = 0\n",
    "        counts_of_ival = edf[i_name][class_value_counts:].value_counts()[i_val]  # get the ival counts from lower half given c = 0\n",
    "    #     print(f'counts_of_ival:{counts_of_ival}')\n",
    "\n",
    "    input_prob = counts_of_ival / class_value_counts\n",
    "#     print(f'input_prob: {input_prob}')\n",
    "    \n",
    "    return (input_prob * class_prob) / class_prob"
   ]
  },
  {
   "cell_type": "markdown",
   "metadata": {},
   "source": [
    "Then, run the following cell, you should get:\n",
    "\n",
    "#### Weather Input Variable\n",
    "\n",
    "$$\n",
    "\\begin{align}\n",
    "&P(weather = sunny|class = \\text{go-out}) = 0.8\\\\\n",
    "&P(weather = rainy|class = \\text{go-out}) = 0.2\\\\\n",
    "&P(weather = sunny|class = \\text{stay-home}) = 0.4\\\\\n",
    "&P(weather = rainy|class = \\text{stay-home}) = 0.6\n",
    "\\end{align} \n",
    "$$\n",
    "\n",
    "#### Car Input Variable\n",
    "\n",
    "$$\n",
    "\\begin{align}\n",
    "&P(car = working|class = \\text{go-out}) = 0.8\\\\\n",
    "&P(car = broken|class = \\text{go-out}) = 0.2\\\\\n",
    "&P(car = working|class = \\text{stay-home}) = 0.2\\\\\n",
    "&P(car = broken|class = \\text{stay-home}) = 0.8\\\\\n",
    "\\end{align}\n",
    "$$"
   ]
  },
  {
   "cell_type": "code",
   "execution_count": 7,
   "metadata": {},
   "outputs": [
    {
     "name": "stdout",
     "output_type": "stream",
     "text": [
      "Weather Input Variable\n",
      "0.8\n",
      "0.2\n",
      "0.4\n",
      "0.6\n",
      "\n",
      "Car Input Variable\n",
      "0.8\n",
      "0.2\n",
      "0.2\n",
      "0.8\n"
     ]
    }
   ],
   "source": [
    "print(\"Weather Input Variable\")\n",
    "print(calc_cond_prob(edf,'Weather',1,1))\n",
    "print(calc_cond_prob(edf,'Weather',0,1))\n",
    "print(calc_cond_prob(edf,'Weather',1,0))\n",
    "print(calc_cond_prob(edf,'Weather',0,0))\n",
    "\n",
    "print(\"\\nCar Input Variable\")\n",
    "print(calc_cond_prob(edf,'Car',1,1))\n",
    "print(calc_cond_prob(edf,'Car',0,1))\n",
    "print(calc_cond_prob(edf,'Car',1,0))\n",
    "print(calc_cond_prob(edf,'Car',0,0))"
   ]
  },
  {
   "cell_type": "markdown",
   "metadata": {},
   "source": [
    "We now have everything we need to make predictions using the Naive Bayes model.\n",
    "\n",
    "## 3. Make Predictions with Naive Bayes\n",
    "We can make predictions using Bayes Theorem, defined and explained in the previous chapter.\n",
    "\n",
    "$$\n",
    "P(h|d) = \\frac{P(d|h) \\times P(h)}{P(d)}\n",
    "$$\n",
    "\n",
    "In fact, we don't need a probability to predict the most likely class for a new data instance. We only need the numerator and the class that gives the largest response, which will be the predicted output.\n",
    "\n",
    "$$\n",
    "MAP(h) = max(P(d|h) \\times P(h))\n",
    "$$\n",
    "\n",
    "Let's take the first record from our dataset and use our learned model to predict which class we think it belongs.\n",
    "\n",
    "First instance: \n",
    "$$\n",
    "\\begin{align}\n",
    "&weather = sunny,\\ &&car = working \\\\\n",
    "&or \\\\\n",
    "&weather = 1,\\ &&car = 1\n",
    "\\end{align}\n",
    "$$\n",
    "\n",
    "We plug the probabilities for our model in for both classes and calculate the response. Starting with the response for the output $\\text{go-out}$. We multiply the conditional probabilities together and multiply it by the probability of any instance belonging to the class.\n",
    "\n",
    "$$\n",
    "\\begin{align}\n",
    "\\text{go-out}\\ =\\ &P(weather = sunny|class = \\text{go-out})\\ \\times \\\\\n",
    "&P(car = working|class = \\text{go-out})\\ \\times \\\\\n",
    "&P(class = \\text{go-out})\n",
    "\\end{align}\n",
    "$$\n",
    "\n",
    "or\n",
    "\n",
    "$$\n",
    "\\begin{align}\n",
    "&\\text{go-out} = 0.8 \\times 0.8 \\times 0.5 \\\\\n",
    "&\\text{go-out} = 0.32\n",
    "\\end{align}\n",
    "$$\n",
    "\n",
    "\n",
    "We can perform the same calculation for the stay-home case:\n",
    "\n",
    "$$\n",
    "\\begin{align}\n",
    "\\text{stay-home} = &P(weather = sunny|class = \\text{stay-home}) \\times \\\\\n",
    "&P(car = working|class = \\text{stay-home}) \\times \\\\\n",
    "&P(class = \\text{stay-home})\n",
    "\\end{align}\n",
    "$$\n",
    "\n",
    "or\n",
    "\n",
    "$$\n",
    "\\begin{align}\n",
    "&\\text{stay-home} = 0.4 \\times 0.2 \\times 0.5 \\\\\n",
    "&\\text{stay-home} = 0.04\n",
    "\\end{align}\n",
    "$$\n",
    "\n",
    "We can see that 0.32 is greater than 0.04, therefore we predict go-out for this instance, which is correct. We can repeat this operation for the entire dataset, as follows:\n",
    "\n",
    "|Weather|Car|Class|go-out?|stay-home?|Prediction|\n",
    "|-------|---|-----|-------|----------|----------|\n",
    "|sunny|working|go-out|0.32|0.04|go-out          |\n",
    "|rainy|broken|go-out|0.02|0.24|stay-home        |\n",
    "|sunny|working|go-out|0.32|0.04|go-out          |\n",
    "|sunny|working|go-out|0.32|0.04|go-out          |\n",
    "|sunny|working|go-out|0.32|0.04|go-out          |\n",
    "|rainy|broken|stay-home|0.02|0.24|stay-home     |\n",
    "|rainy|broken|stay-home|0.02|0.24|stay-home     |\n",
    "|sunny|working|stay-home|0.32|0.04|go-out       |\n",
    "|sunny|broken|stay-home|0.08|0.16|stay-home     |\n",
    "|rainy|broken|stay-home|0.02|0.24|stay-home     |\n",
    "\n",
    "Tying up everything, create a function `calc_predictions` that takes in the encoded dataset `edf` and returns the updated dataset containing both the responses of each class and the predicted class `pdf`, similar to that as shown in the table above. Your dataset should still be made up of numerical values.\n",
    "\n",
    "For your reference:\n",
    "- Weather: sunny = 1, rainy = 0\n",
    "- Car: working = 1, broken = 0\n",
    "- Class: go-out = 1, stay-home = 0"
   ]
  },
  {
   "cell_type": "code",
   "execution_count": 8,
   "metadata": {},
   "outputs": [],
   "source": [
    "def calc_cond_prob_opposite(edf, i_name, i_val, c):\n",
    "    \"\"\"\n",
    "    # create a calc_cond_prob_opposite function to output the opposite set of values \n",
    "    # as compares to calc_cond_prob function\n",
    "    # calc_cond_prob_opposite function will be used in calc_predicton function below.\n",
    "    \"\"\"\n",
    "    cls_prob = calc_class_prob(edf) # call the calc_prob func to get the dictionary\n",
    "    class_prob = cls_prob[c]  # get the probability of class given c\n",
    "#     print(f'class_prob: {class_prob}')\n",
    "    \n",
    "    if c == 1:  # class value 1\n",
    "        class_value_counts = edf['Class'].value_counts()[1-c]                    # get the class val counts given c = 1\n",
    "        counts_of_ival = edf[i_name][class_value_counts:].value_counts()[i_val]  # get the ival counts from lower half given c = 1\n",
    "    \n",
    "    elif c == 0: # class value 0\n",
    "        class_value_counts = edf['Class'].value_counts()[1-c]                    # get the class val counts given c = 0\n",
    "        counts_of_ival = edf[i_name][:class_value_counts].value_counts()[i_val]  # get the ival counts from upper hald given c = 0\n",
    "    #     print(f'counts_of_ival:{counts_of_ival}')\n",
    "\n",
    "    input_prob = counts_of_ival / class_value_counts\n",
    "#     print(f'input_prob: {input_prob}')\n",
    "    \n",
    "    return (input_prob * class_prob) / class_prob"
   ]
  },
  {
   "cell_type": "code",
   "execution_count": 9,
   "metadata": {},
   "outputs": [],
   "source": [
    "def calc_prediction(edf):\n",
    "    temp = []\n",
    "    temp_opposite = []\n",
    "    \n",
    "    ## --------------- call calc_cond_prob and calc_cond_prob_opposite function -----------------\n",
    "    for index, row in edf.iterrows(): \n",
    "    #     print(row['Weather'], row['Car'], 1)  \n",
    "        original = calc_cond_prob(edf,'Weather',row['Weather'],row['Class']) * calc_cond_prob(edf,'Car',row['Car'],row['Class']) * 0.5\n",
    "        temp.append(round(original, 2))\n",
    "        opposite= calc_cond_prob_opposite(edf,'Weather',row['Weather'],row['Class']) * calc_cond_prob_opposite(edf,'Car',row['Car'],row['Class']) * 0.5\n",
    "        temp_opposite.append(round(opposite, 2))\n",
    "    go_out_upper = temp[:5]\n",
    "    go_out_lower = temp_opposite[5:]\n",
    "    stay_home_lower = temp[5:]\n",
    "    stay_home_upper = temp_opposite[:5]\n",
    "    go_out = go_out_upper + go_out_lower\n",
    "    stay_home = stay_home_upper + stay_home_lower\n",
    "    \n",
    "    ## ------------------- update 3 new columns into the updated edf dataframe -----------------\n",
    "    updated_edf = edf.copy(deep=True)\n",
    "    updated_edf['go-out?'] = pd.Series(go_out)\n",
    "    updated_edf['stay-home?'] = pd.Series(stay_home)\n",
    "    updated_edf['Prediction'] = np.where(updated_edf[\"go-out?\"] > updated_edf[\"stay-home?\"], 1, 0)\n",
    "    return updated_edf"
   ]
  },
  {
   "cell_type": "markdown",
   "metadata": {},
   "source": [
    "Run the cell below to update the dataset using the `prediction` function you have created."
   ]
  },
  {
   "cell_type": "code",
   "execution_count": 10,
   "metadata": {},
   "outputs": [
    {
     "name": "stdout",
     "output_type": "stream",
     "text": [
      "   Weather  Car  Class  go-out?  stay-home?  Prediction\n",
      "0        1    1      1     0.32        0.04           1\n",
      "1        0    0      1     0.02        0.24           0\n",
      "2        1    1      1     0.32        0.04           1\n",
      "3        1    1      1     0.32        0.04           1\n",
      "4        1    1      1     0.32        0.04           1\n"
     ]
    }
   ],
   "source": [
    "pdf = calc_prediction(edf)\n",
    "print(pdf.head())"
   ]
  },
  {
   "cell_type": "markdown",
   "metadata": {},
   "source": [
    "Write a function `calc_accuracy`, that takes in the updated dataset `pdf` and compare the predicted class values with the actual class values and returns the accuracy as output `accuracy`."
   ]
  },
  {
   "cell_type": "code",
   "execution_count": 11,
   "metadata": {},
   "outputs": [],
   "source": [
    "def calc_accuracy(pdf):\n",
    "    accuracy_list = np.where(pdf['Class'] == pdf['Prediction'], 1, 0)\n",
    "    unique, counts = np.unique(accuracy_list, return_counts=True)\n",
    "    accuracy_tuple = list(zip(unique, counts))\n",
    "    return (accuracy_tuple[1][1] / len(accuracy_list)) * 100 "
   ]
  },
  {
   "cell_type": "markdown",
   "metadata": {},
   "source": [
    "If we tally up the predictions compared to the actual class values, we should get an accuracy of 80%, which is excellent given that there are conflicting examples in the dataset. Run the cell below."
   ]
  },
  {
   "cell_type": "code",
   "execution_count": 12,
   "metadata": {},
   "outputs": [
    {
     "name": "stdout",
     "output_type": "stream",
     "text": [
      "80.0\n"
     ]
    }
   ],
   "source": [
    "print(calc_accuracy(pdf))"
   ]
  },
  {
   "cell_type": "markdown",
   "metadata": {},
   "source": [
    "## 4. Summary\n",
    "\n",
    "In this chapter you discovered exactly how to implement Naive Bayes from scratch. You learned:\n",
    "- How to work with categorical data with Naive Bayes.\n",
    "- How to calculate class probabilities from training data.\n",
    "- How to calculate conditional probabilities from training data.\n",
    "- How to use a learned Naive Bayes model to make predictions on new data.\n",
    "\n",
    "You now know how to implement Naive Bayes from scratch for categorical data."
   ]
  }
 ],
 "metadata": {
  "kernelspec": {
   "display_name": "Python 3",
   "language": "python",
   "name": "python3"
  },
  "language_info": {
   "codemirror_mode": {
    "name": "ipython",
    "version": 3
   },
   "file_extension": ".py",
   "mimetype": "text/x-python",
   "name": "python",
   "nbconvert_exporter": "python",
   "pygments_lexer": "ipython3",
   "version": "3.8.6"
  }
 },
 "nbformat": 4,
 "nbformat_minor": 5
}
